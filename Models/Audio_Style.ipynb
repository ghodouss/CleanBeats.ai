{
 "cells": [
  {
   "cell_type": "code",
   "execution_count": 1,
   "metadata": {},
   "outputs": [],
   "source": [
    "import librosa\n",
    "from pydub import AudioSegment\n",
    "from gtts import gTTS\n",
    "from tempfile import TemporaryFile\n",
    "import sys"
   ]
  },
  {
   "cell_type": "code",
   "execution_count": 3,
   "metadata": {
    "scrolled": true
   },
   "outputs": [],
   "source": [
    "sys.path.remove(\"/home/kian/.ipython\")"
   ]
  },
  {
   "cell_type": "code",
   "execution_count": 4,
   "metadata": {},
   "outputs": [
    {
     "data": {
      "text/plain": [
       "['',\n",
       " '/home/kian/ML/SBHacks',\n",
       " '/home/kian/ML/SBHacks/sbhacks/lib/python2.7',\n",
       " '/home/kian/ML/SBHacks/sbhacks/lib/python2.7/plat-x86_64-linux-gnu',\n",
       " '/home/kian/ML/SBHacks/sbhacks/lib/python2.7/lib-tk',\n",
       " '/home/kian/ML/SBHacks/sbhacks/lib/python2.7/lib-old',\n",
       " '/home/kian/ML/SBHacks/sbhacks/lib/python2.7/lib-dynload',\n",
       " '/usr/lib/python2.7',\n",
       " '/usr/lib/python2.7/plat-x86_64-linux-gnu',\n",
       " '/usr/lib/python2.7/lib-tk',\n",
       " '/home/kian/ML/SBHacks/sbhacks/local/lib/python2.7/site-packages',\n",
       " '/home/kian/ML/SBHacks/sbhacks/lib/python2.7/site-packages',\n",
       " '/home/kian/ML/SBHacks/sbhacks/local/lib/python2.7/site-packages/IPython/extensions']"
      ]
     },
     "execution_count": 4,
     "metadata": {},
     "output_type": "execute_result"
    }
   ],
   "source": [
    "sys.path.append(\"/usr/bin/ffmpeg\")"
   ]
  },
  {
   "cell_type": "code",
   "execution_count": 5,
   "metadata": {},
   "outputs": [],
   "source": [
    "file_name = \"test_audio1.mp3\""
   ]
  },
  {
   "cell_type": "code",
   "execution_count": 6,
   "metadata": {
    "scrolled": true
   },
   "outputs": [
    {
     "ename": "CouldntEncodeError",
     "evalue": "Encoding failed. ffmpeg/avlib returned error code: 1\n\nCommand:['ffmpeg', '-y', '-f', 'wav', '-i', '/tmp/tmpWpupYU', '-f', 'mp3', '/tmp/tmpwHtXT_']\n\nOutput from ffmpeg/avlib:\n\nffmpeg version 3.2.4 Copyright (c) 2000-2017 the FFmpeg developers\n  built with gcc 4.8.2 (GCC) 20140120 (Red Hat 4.8.2-15)\n  configuration: --prefix=/home/kian/anaconda3 --disable-doc --enable-shared --enable-static --extra-cflags='-Wall -g -m64 -pipe -O3 -march=x86-64 -fPIC -I/home/kian/anaconda3/include' --extra-cxxflags='=-Wall -g -m64 -pipe -O3 -march=x86-64 -fPIC' --extra-libs='-L/home/kian/anaconda3/lib -lz' --enable-pic --enable-gpl --enable-version3 --enable-hardcoded-tables --enable-avresample --enable-libx264\n  libavutil      55. 34.101 / 55. 34.101\n  libavcodec     57. 64.101 / 57. 64.101\n  libavformat    57. 56.101 / 57. 56.101\n  libavdevice    57.  1.100 / 57.  1.100\n  libavfilter     6. 65.100 /  6. 65.100\n  libavresample   3.  1.  0 /  3.  1.  0\n  libswscale      4.  2.100 /  4.  2.100\n  libswresample   2.  3.100 /  2.  3.100\n  libpostproc    54.  1.100 / 54.  1.100\nGuessed Channel Layout for Input Stream #0.0 : stereo\nInput #0, wav, from '/tmp/tmpWpupYU':\n  Duration: 00:04:17.88, bitrate: 1411 kb/s\n    Stream #0:0: Audio: pcm_s16le ([1][0][0][0] / 0x0001), 44100 Hz, stereo, s16, 1411 kb/s\nAutomatic encoder selection failed for output stream #0:0. Default encoder for format mp3 (codec mp3) is probably disabled. Please choose an encoder manually.\nError selecting an encoder for stream 0:0\n",
     "output_type": "error",
     "traceback": [
      "\u001b[0;31m---------------------------------------------------------------------------\u001b[0m",
      "\u001b[0;31mCouldntEncodeError\u001b[0m                        Traceback (most recent call last)",
      "\u001b[0;32m/home/kian/ML/SBHacks/sbhacks/local/lib/python2.7/site-packages/IPython/core/formatters.pyc\u001b[0m in \u001b[0;36m__call__\u001b[0;34m(self, obj)\u001b[0m\n\u001b[1;32m    336\u001b[0m             \u001b[0mmethod\u001b[0m \u001b[0;34m=\u001b[0m \u001b[0mget_real_method\u001b[0m\u001b[0;34m(\u001b[0m\u001b[0mobj\u001b[0m\u001b[0;34m,\u001b[0m \u001b[0mself\u001b[0m\u001b[0;34m.\u001b[0m\u001b[0mprint_method\u001b[0m\u001b[0;34m)\u001b[0m\u001b[0;34m\u001b[0m\u001b[0m\n\u001b[1;32m    337\u001b[0m             \u001b[0;32mif\u001b[0m \u001b[0mmethod\u001b[0m \u001b[0;32mis\u001b[0m \u001b[0;32mnot\u001b[0m \u001b[0mNone\u001b[0m\u001b[0;34m:\u001b[0m\u001b[0;34m\u001b[0m\u001b[0m\n\u001b[0;32m--> 338\u001b[0;31m                 \u001b[0;32mreturn\u001b[0m \u001b[0mmethod\u001b[0m\u001b[0;34m(\u001b[0m\u001b[0;34m)\u001b[0m\u001b[0;34m\u001b[0m\u001b[0m\n\u001b[0m\u001b[1;32m    339\u001b[0m             \u001b[0;32mreturn\u001b[0m \u001b[0mNone\u001b[0m\u001b[0;34m\u001b[0m\u001b[0m\n\u001b[1;32m    340\u001b[0m         \u001b[0;32melse\u001b[0m\u001b[0;34m:\u001b[0m\u001b[0;34m\u001b[0m\u001b[0m\n",
      "\u001b[0;32m/home/kian/ML/SBHacks/sbhacks/local/lib/python2.7/site-packages/pydub/audio_segment.pyc\u001b[0m in \u001b[0;36m_repr_html_\u001b[0;34m(self)\u001b[0m\n\u001b[1;32m   1081\u001b[0m                     \u001b[0;34m<\u001b[0m\u001b[0;34m/\u001b[0m\u001b[0maudio\u001b[0m\u001b[0;34m>\u001b[0m\u001b[0;34m\u001b[0m\u001b[0m\n\u001b[1;32m   1082\u001b[0m                   \"\"\"\n\u001b[0;32m-> 1083\u001b[0;31m             \u001b[0mfh\u001b[0m \u001b[0;34m=\u001b[0m \u001b[0mself\u001b[0m\u001b[0;34m.\u001b[0m\u001b[0mexport\u001b[0m\u001b[0;34m(\u001b[0m\u001b[0;34m)\u001b[0m\u001b[0;34m\u001b[0m\u001b[0m\n\u001b[0m\u001b[1;32m   1084\u001b[0m             \u001b[0mdata\u001b[0m \u001b[0;34m=\u001b[0m \u001b[0mbase64\u001b[0m\u001b[0;34m.\u001b[0m\u001b[0mb64encode\u001b[0m\u001b[0;34m(\u001b[0m\u001b[0mfh\u001b[0m\u001b[0;34m.\u001b[0m\u001b[0mread\u001b[0m\u001b[0;34m(\u001b[0m\u001b[0;34m)\u001b[0m\u001b[0;34m)\u001b[0m\u001b[0;34m.\u001b[0m\u001b[0mdecode\u001b[0m\u001b[0;34m(\u001b[0m\u001b[0;34m'ascii'\u001b[0m\u001b[0;34m)\u001b[0m\u001b[0;34m\u001b[0m\u001b[0m\n\u001b[1;32m   1085\u001b[0m             \u001b[0;32mreturn\u001b[0m \u001b[0msrc\u001b[0m\u001b[0;34m.\u001b[0m\u001b[0mformat\u001b[0m\u001b[0;34m(\u001b[0m\u001b[0mbase64\u001b[0m\u001b[0;34m=\u001b[0m\u001b[0mdata\u001b[0m\u001b[0;34m)\u001b[0m\u001b[0;34m\u001b[0m\u001b[0m\n",
      "\u001b[0;32m/home/kian/ML/SBHacks/sbhacks/local/lib/python2.7/site-packages/pydub/audio_segment.pyc\u001b[0m in \u001b[0;36mexport\u001b[0;34m(self, out_f, format, codec, bitrate, parameters, tags, id3v2_version, cover)\u001b[0m\n\u001b[1;32m    669\u001b[0m \u001b[0;34m\u001b[0m\u001b[0m\n\u001b[1;32m    670\u001b[0m         \u001b[0;32mif\u001b[0m \u001b[0mp\u001b[0m\u001b[0;34m.\u001b[0m\u001b[0mreturncode\u001b[0m \u001b[0;34m!=\u001b[0m \u001b[0;36m0\u001b[0m\u001b[0;34m:\u001b[0m\u001b[0;34m\u001b[0m\u001b[0m\n\u001b[0;32m--> 671\u001b[0;31m             \u001b[0;32mraise\u001b[0m \u001b[0mCouldntEncodeError\u001b[0m\u001b[0;34m(\u001b[0m\u001b[0;34m\"Encoding failed. ffmpeg/avlib returned error code: {0}\\n\\nCommand:{1}\\n\\nOutput from ffmpeg/avlib:\\n\\n{2}\"\u001b[0m\u001b[0;34m.\u001b[0m\u001b[0mformat\u001b[0m\u001b[0;34m(\u001b[0m\u001b[0mp\u001b[0m\u001b[0;34m.\u001b[0m\u001b[0mreturncode\u001b[0m\u001b[0;34m,\u001b[0m \u001b[0mconversion_command\u001b[0m\u001b[0;34m,\u001b[0m \u001b[0mp_err\u001b[0m\u001b[0;34m)\u001b[0m\u001b[0;34m)\u001b[0m\u001b[0;34m\u001b[0m\u001b[0m\n\u001b[0m\u001b[1;32m    672\u001b[0m \u001b[0;34m\u001b[0m\u001b[0m\n\u001b[1;32m    673\u001b[0m         \u001b[0moutput\u001b[0m\u001b[0;34m.\u001b[0m\u001b[0mseek\u001b[0m\u001b[0;34m(\u001b[0m\u001b[0;36m0\u001b[0m\u001b[0;34m)\u001b[0m\u001b[0;34m\u001b[0m\u001b[0m\n",
      "\u001b[0;31mCouldntEncodeError\u001b[0m: Encoding failed. ffmpeg/avlib returned error code: 1\n\nCommand:['ffmpeg', '-y', '-f', 'wav', '-i', '/tmp/tmpWpupYU', '-f', 'mp3', '/tmp/tmpwHtXT_']\n\nOutput from ffmpeg/avlib:\n\nffmpeg version 3.2.4 Copyright (c) 2000-2017 the FFmpeg developers\n  built with gcc 4.8.2 (GCC) 20140120 (Red Hat 4.8.2-15)\n  configuration: --prefix=/home/kian/anaconda3 --disable-doc --enable-shared --enable-static --extra-cflags='-Wall -g -m64 -pipe -O3 -march=x86-64 -fPIC -I/home/kian/anaconda3/include' --extra-cxxflags='=-Wall -g -m64 -pipe -O3 -march=x86-64 -fPIC' --extra-libs='-L/home/kian/anaconda3/lib -lz' --enable-pic --enable-gpl --enable-version3 --enable-hardcoded-tables --enable-avresample --enable-libx264\n  libavutil      55. 34.101 / 55. 34.101\n  libavcodec     57. 64.101 / 57. 64.101\n  libavformat    57. 56.101 / 57. 56.101\n  libavdevice    57.  1.100 / 57.  1.100\n  libavfilter     6. 65.100 /  6. 65.100\n  libavresample   3.  1.  0 /  3.  1.  0\n  libswscale      4.  2.100 /  4.  2.100\n  libswresample   2.  3.100 /  2.  3.100\n  libpostproc    54.  1.100 / 54.  1.100\nGuessed Channel Layout for Input Stream #0.0 : stereo\nInput #0, wav, from '/tmp/tmpWpupYU':\n  Duration: 00:04:17.88, bitrate: 1411 kb/s\n    Stream #0:0: Audio: pcm_s16le ([1][0][0][0] / 0x0001), 44100 Hz, stereo, s16, 1411 kb/s\nAutomatic encoder selection failed for output stream #0:0. Default encoder for format mp3 (codec mp3) is probably disabled. Please choose an encoder manually.\nError selecting an encoder for stream 0:0\n"
     ]
    },
    {
     "data": {
      "text/plain": [
       "<pydub.audio_segment.AudioSegment at 0x7f9701486a50>"
      ]
     },
     "execution_count": 6,
     "metadata": {},
     "output_type": "execute_result"
    }
   ],
   "source": [
    "AudioSegment.from_mp3(file_name)"
   ]
  },
  {
   "cell_type": "code",
   "execution_count": 10,
   "metadata": {},
   "outputs": [],
   "source": [
    "g = gTTS(\"Hello\")"
   ]
  },
  {
   "cell_type": "code",
   "execution_count": 11,
   "metadata": {},
   "outputs": [
    {
     "data": {
      "text/plain": [
       "<gtts.tts.gTTS at 0x7f1a2d7e49b0>"
      ]
     },
     "execution_count": 11,
     "metadata": {},
     "output_type": "execute_result"
    }
   ],
   "source": [
    "g"
   ]
  },
  {
   "cell_type": "code",
   "execution_count": 19,
   "metadata": {},
   "outputs": [],
   "source": [
    "f = TemporaryFile()\n",
    "g.write_to_fp(f)"
   ]
  },
  {
   "cell_type": "code",
   "execution_count": 18,
   "metadata": {},
   "outputs": [
    {
     "ename": "AttributeError",
     "evalue": "'_io.BufferedRandom' object has no attribute 'size'",
     "output_type": "error",
     "traceback": [
      "\u001b[0;31m---------------------------------------------------------------------------\u001b[0m",
      "\u001b[0;31mAttributeError\u001b[0m                            Traceback (most recent call last)",
      "\u001b[0;32m<ipython-input-18-6a0714c5c9bb>\u001b[0m in \u001b[0;36m<module>\u001b[0;34m()\u001b[0m\n\u001b[0;32m----> 1\u001b[0;31m \u001b[0mf\u001b[0m\u001b[0;34m.\u001b[0m\u001b[0msize\u001b[0m\u001b[0;34m\u001b[0m\u001b[0m\n\u001b[0m",
      "\u001b[0;31mAttributeError\u001b[0m: '_io.BufferedRandom' object has no attribute 'size'"
     ]
    }
   ],
   "source": [
    "pydub.AudioSegment"
   ]
  },
  {
   "cell_type": "code",
   "execution_count": null,
   "metadata": {
    "collapsed": true
   },
   "outputs": [],
   "source": []
  }
 ],
 "metadata": {
  "anaconda-cloud": {},
  "kernelspec": {
   "display_name": "Python 2",
   "language": "python",
   "name": "python2"
  },
  "language_info": {
   "codemirror_mode": {
    "name": "ipython",
    "version": 2
   },
   "file_extension": ".py",
   "mimetype": "text/x-python",
   "name": "python",
   "nbconvert_exporter": "python",
   "pygments_lexer": "ipython2",
   "version": "2.7.12"
  }
 },
 "nbformat": 4,
 "nbformat_minor": 1
}
